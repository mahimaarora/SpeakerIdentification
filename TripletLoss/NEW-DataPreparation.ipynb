{
 "cells": [
  {
   "cell_type": "code",
   "execution_count": 17,
   "metadata": {},
   "outputs": [],
   "source": [
    "import os\n",
    "import shutil\n",
    "from tqdm import tqdm\n",
    "import csv\n",
    "import random\n",
    "import matplotlib.pyplot as plt\n",
    "import numpy as np"
   ]
  },
  {
   "cell_type": "code",
   "execution_count": 18,
   "metadata": {},
   "outputs": [],
   "source": [
    "datapath = 'NewData'"
   ]
  },
  {
   "cell_type": "code",
   "execution_count": 19,
   "metadata": {},
   "outputs": [],
   "source": [
    "# speakers, n = np.load('newdetails.npy',allow_pickle=True)"
   ]
  },
  {
   "cell_type": "code",
   "execution_count": 20,
   "metadata": {},
   "outputs": [
    {
     "name": "stdout",
     "output_type": "stream",
     "text": [
      "Number of speakers:  2\n"
     ]
    }
   ],
   "source": [
    "def get_labels(path):\n",
    "    labels = os.listdir(path)\n",
    "    label_indices = np.arange(0, len(labels))\n",
    "    return labels, len(labels)\n",
    "speakers, n = get_labels(datapath)\n",
    "\n",
    "# Saving the names of speakers and their labels\n",
    "details=[speakers,n]\n",
    "np.save('newdetails.npy', details)\n",
    "print('Number of speakers: ',n)"
   ]
  },
  {
   "cell_type": "markdown",
   "metadata": {},
   "source": [
    "##### Making Train and Test csv files containing the audio filename and the speaker associated with that audio"
   ]
  },
  {
   "cell_type": "code",
   "execution_count": 21,
   "metadata": {},
   "outputs": [],
   "source": [
    "def organise_data_csv(path):\n",
    "    data = [['SampleName','Speaker']]\n",
    "    for id_ in speakers:\n",
    "        speaker_path = path+'/'+id_\n",
    "        videos = os.listdir(speaker_path)\n",
    "        c=0\n",
    "        for v in videos:\n",
    "            files = os.listdir(speaker_path+'/'+v) \n",
    "            random.shuffle(files)\n",
    "            audio_clip = speaker_path+'/'+v+'/'+files.pop(0), path +'/'+id_+'.'+str(c)+'.wav'\n",
    "            #print(audio_clip,type(audio_clip))\n",
    "            c+=1\n",
    "            os.rename(audio_clip[0],audio_clip[1])\n",
    "            data.append([audio_clip[1],id_])                          \n",
    "            shutil.rmtree(speaker_path+'/'+v)\n",
    "        os.rmdir(path+'/'+id_)\n",
    "        \n",
    "        \n",
    "    with open('newdata.csv', 'w') as csvFile:\n",
    "        writer = csv.writer(csvFile)\n",
    "        writer.writerows(data)\n",
    "\n",
    "    csvFile.close()    \n",
    "    \n",
    "    return data\n",
    "        \n",
    "data = organise_data_csv(datapath)"
   ]
  },
  {
   "cell_type": "code",
   "execution_count": 22,
   "metadata": {},
   "outputs": [],
   "source": [
    "np.save('newdata.npy', data)"
   ]
  },
  {
   "cell_type": "code",
   "execution_count": 8,
   "metadata": {},
   "outputs": [],
   "source": [
    "# newdata_samples = np.load('newdata.npy', allow_pickle=True).tolist()\n"
   ]
  },
  {
   "cell_type": "code",
   "execution_count": null,
   "metadata": {},
   "outputs": [],
   "source": []
  }
 ],
 "metadata": {
  "kernelspec": {
   "display_name": "Python 3",
   "language": "python",
   "name": "python3"
  },
  "language_info": {
   "codemirror_mode": {
    "name": "ipython",
    "version": 3
   },
   "file_extension": ".py",
   "mimetype": "text/x-python",
   "name": "python",
   "nbconvert_exporter": "python",
   "pygments_lexer": "ipython3",
   "version": "3.7.3"
  }
 },
 "nbformat": 4,
 "nbformat_minor": 2
}
