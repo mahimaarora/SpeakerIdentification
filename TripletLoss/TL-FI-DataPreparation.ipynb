{
 "cells": [
  {
   "cell_type": "code",
   "execution_count": 1,
   "metadata": {},
   "outputs": [],
   "source": [
    "import os\n",
    "import shutil\n",
    "from tqdm import tqdm\n",
    "import csv\n",
    "import random\n",
    "import matplotlib.pyplot as plt\n",
    "import numpy as np\n",
    "import time"
   ]
  },
  {
   "cell_type": "code",
   "execution_count": 14,
   "metadata": {},
   "outputs": [],
   "source": [
    "datapath = 'Dataset-5'\n",
    "extra = 'extras'\n",
    "train_path = 'data_train'\n",
    "test_path = 'data_test'\n",
    "validation_path = 'data_validation'"
   ]
  },
  {
   "cell_type": "code",
   "execution_count": 15,
   "metadata": {},
   "outputs": [],
   "source": [
    "# speakers, n = np.load('details.npy',allow_pickle=True)"
   ]
  },
  {
   "cell_type": "code",
   "execution_count": 16,
   "metadata": {},
   "outputs": [
    {
     "name": "stdout",
     "output_type": "stream",
     "text": [
      "Number of speakers:  5\n"
     ]
    }
   ],
   "source": [
    "def get_labels(path):\n",
    "    labels = os.listdir(path)\n",
    "    return labels, len(labels)\n",
    "speakers, n = get_labels(datapath)\n",
    "\n",
    "# Saving the names of speakers and their labels\n",
    "details=[speakers,n]\n",
    "np.save('details.npy', details)\n",
    "print('Number of speakers: ',n)"
   ]
  },
  {
   "cell_type": "code",
   "execution_count": 17,
   "metadata": {},
   "outputs": [
    {
     "data": {
      "text/plain": [
       "['id10003', 'id10004', 'id10005', 'id10006', 'id10007']"
      ]
     },
     "execution_count": 17,
     "metadata": {},
     "output_type": "execute_result"
    }
   ],
   "source": [
    "speakers[:5]"
   ]
  },
  {
   "cell_type": "code",
   "execution_count": 20,
   "metadata": {},
   "outputs": [],
   "source": [
    "data_sources = [train_path,test_path,validation_path,extra]"
   ]
  },
  {
   "cell_type": "code",
   "execution_count": 21,
   "metadata": {},
   "outputs": [
    {
     "name": "stdout",
     "output_type": "stream",
     "text": [
      "Directory  data_train  already exists\n",
      "Directory  data_test  already exists\n",
      "Directory  data_validation  already exists\n",
      "Directory  extras  already exists\n"
     ]
    }
   ],
   "source": [
    "for source in data_sources:\n",
    "    try:\n",
    "        # Create target Directory\n",
    "        os.mkdir(source)\n",
    "        print(\"Directory \" , source ,  \" Created \") \n",
    "    except FileExistsError:\n",
    "        print(\"Directory \" , source ,  \" already exists\")"
   ]
  },
  {
   "cell_type": "code",
   "execution_count": 22,
   "metadata": {},
   "outputs": [],
   "source": [
    "# if exists then clearing it\n",
    "for source in data_sources:\n",
    "    fileList = os.listdir(source)\n",
    "    for fileName in fileList:\n",
    "        os.remove(source+\"/\"+fileName)"
   ]
  },
  {
   "cell_type": "markdown",
   "metadata": {},
   "source": [
    "##### Making Train and Test csv files containing the audio filename and the speaker associated with that audio"
   ]
  },
  {
   "cell_type": "code",
   "execution_count": 23,
   "metadata": {},
   "outputs": [
    {
     "name": "stdout",
     "output_type": "stream",
     "text": [
      "Time for 5 speakers 0.015128906567891438 mins\n"
     ]
    }
   ],
   "source": [
    "def organise_data_csv(path):\n",
    "    validation = [['SampleName','Speaker']]\n",
    "    test = [['SampleName','Speaker']]\n",
    "    train =[['SampleName','Speaker']]\n",
    "    training_samples = [[] for _ in range(n)]\n",
    "    for id_ in speakers:\n",
    "        c = 0\n",
    "        val = []\n",
    "        test_id = []\n",
    "        train_id = []\n",
    "        remaining = []\n",
    "        speaker_path = path+'/'+id_\n",
    "        videos = os.listdir(speaker_path)\n",
    "        \n",
    "        random.shuffle(videos)\n",
    "        for v in videos:\n",
    "            files = os.listdir(speaker_path+'/'+v) \n",
    "            random.shuffle(files)\n",
    "            if len(files) >= 3:\n",
    "                if len(train_id) < 15:\n",
    "                    c +=1\n",
    "                    audio_clip = speaker_path+'/'+v+'/'+files.pop(0), train_path +'/'+id_+'.'+str(c)+'.wav'\n",
    "                    shutil.move(audio_clip[0],audio_clip[1])\n",
    "                    train_id.append([audio_clip[1],id_])\n",
    "                if len(val) < 5:\n",
    "                    c +=1\n",
    "                    audio_clip = speaker_path+'/'+v+'/'+files.pop(0), validation_path +'/'+id_+'.'+str(c)+'.wav'\n",
    "                    shutil.move(audio_clip[0],audio_clip[1])\n",
    "                    val.append([audio_clip[1],id_])\n",
    "                if len(test_id) < 5:\n",
    "                    c +=1\n",
    "                    audio_clip = speaker_path+'/'+v+'/'+files.pop(0), test_path +'/'+id_+'.'+str(c)+'.wav'\n",
    "                    shutil.move(audio_clip[0],audio_clip[1])\n",
    "                    test_id.append([audio_clip[1],id_])\n",
    "            else:\n",
    "                if len(train_id) < 15:\n",
    "                    c +=1\n",
    "                    audio_clip = speaker_path+'/'+v+'/'+files.pop(0), train_path +'/'+id_+'.'+str(c)+'.wav'\n",
    "                    shutil.move(audio_clip[0],audio_clip[1])\n",
    "                    train_id.append([audio_clip[1],id_])\n",
    "            while (len(files) != 0):\n",
    "                c +=1\n",
    "                audio_clip = speaker_path+'/'+v+'/'+files.pop(0), extra +'/'+id_+'.'+str(c)+'.wav'\n",
    "                shutil.move(audio_clip[0],audio_clip[1])\n",
    "                remaining.append(audio_clip[1])\n",
    "            shutil.rmtree(speaker_path+'/'+v)\n",
    "                \n",
    "        random.shuffle(remaining)\n",
    "        while (len(train_id) < 15):\n",
    "            if len(remaining) > 0:\n",
    "                c+=1\n",
    "                audio_clip = remaining.pop(0), train_path +'/'+id_+'.'+str(c)+'.wav'\n",
    "                shutil.move(audio_clip[0],audio_clip[1])\n",
    "                train_id.append([audio_clip[1],id_])\n",
    "        while (len(test_id) < 5):\n",
    "            if len(remaining) > 0:\n",
    "                c+=1\n",
    "                audio_clip = remaining.pop(0), test_path +'/'+id_+'.'+str(c)+'.wav'\n",
    "                shutil.move(audio_clip[0],audio_clip[1])\n",
    "                test_id.append([audio_clip[1],id_])\n",
    "        while (len(val) < 5):\n",
    "            if len(remaining) > 0:\n",
    "                c+=1\n",
    "                audio_clip = remaining.pop(0), validation_path +'/'+id_+'.'+str(c)+'.wav'\n",
    "                shutil.move(audio_clip[0],audio_clip[1])\n",
    "                val.append([audio_clip[1],id_])\n",
    "                \n",
    "            \n",
    "        validation.extend(val)\n",
    "        test.extend(test_id)\n",
    "        training_samples[speakers.index(id_)].extend(train_id)\n",
    "        train.extend(train_id)\n",
    "        shutil.rmtree(path+'/'+id_)\n",
    "        fileList = os.listdir(extra)\n",
    "        for fileName in fileList:\n",
    "             os.remove(extra+\"/\"+fileName)\n",
    "        \n",
    "        \n",
    "    with open('train.csv', 'w') as csvFile:\n",
    "        writer = csv.writer(csvFile)\n",
    "        writer.writerows(train)\n",
    "    csvFile.close()    \n",
    "    \n",
    "    with open('test.csv', 'w') as csvFile:\n",
    "        writer = csv.writer(csvFile)\n",
    "        writer.writerows(test)\n",
    "    csvFile.close()\n",
    "    \n",
    "    with open('validation.csv', 'w') as csvFile:\n",
    "        writer = csv.writer(csvFile)\n",
    "        writer.writerows(validation)\n",
    "    csvFile.close() \n",
    "    \n",
    "    return training_samples,test, validation\n",
    "start = time.time()      \n",
    "training_samples ,testing_samples, validation_samples = organise_data_csv(datapath)\n",
    "end = time.time()\n",
    "print('Time for',n,'speakers', (end-start)/60,'mins')"
   ]
  },
  {
   "cell_type": "code",
   "execution_count": 24,
   "metadata": {},
   "outputs": [],
   "source": [
    "np.save('training_samples.npy', training_samples)\n",
    "np.save('testing_samples.npy', testing_samples)\n",
    "np.save('validation_samples.npy', validation_samples)"
   ]
  },
  {
   "cell_type": "code",
   "execution_count": 25,
   "metadata": {},
   "outputs": [],
   "source": [
    "# training_samples = np.load('training_samples.npy', allow_pickle=True).tolist()\n",
    "# testing_samples = np.load('testing_samples.npy', allow_pickle=True).tolist()\n",
    "# validation_samples = np.load('validatiom_samples.npy', allow_pickle=True).tolist()"
   ]
  },
  {
   "cell_type": "code",
   "execution_count": 26,
   "metadata": {},
   "outputs": [
    {
     "data": {
      "text/plain": [
       "True"
      ]
     },
     "execution_count": 26,
     "metadata": {},
     "output_type": "execute_result"
    }
   ],
   "source": [
    "sum([len(i) for i in training_samples]) == 15*n"
   ]
  }
 ],
 "metadata": {
  "kernelspec": {
   "display_name": "Python 3",
   "language": "python",
   "name": "python3"
  },
  "language_info": {
   "codemirror_mode": {
    "name": "ipython",
    "version": 3
   },
   "file_extension": ".py",
   "mimetype": "text/x-python",
   "name": "python",
   "nbconvert_exporter": "python",
   "pygments_lexer": "ipython3",
   "version": "3.7.3"
  }
 },
 "nbformat": 4,
 "nbformat_minor": 2
}
