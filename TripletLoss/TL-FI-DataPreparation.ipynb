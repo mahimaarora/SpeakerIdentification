{
 "cells": [
  {
   "cell_type": "code",
   "execution_count": 1,
   "metadata": {},
   "outputs": [],
   "source": [
    "import os\n",
    "import shutil\n",
    "from tqdm import tqdm\n",
    "import csv\n",
    "import random\n",
    "import matplotlib.pyplot as plt\n",
    "import numpy as np"
   ]
  },
  {
   "cell_type": "code",
   "execution_count": 2,
   "metadata": {},
   "outputs": [],
   "source": [
    "datapath = 'Dataset-5'"
   ]
  },
  {
   "cell_type": "code",
   "execution_count": null,
   "metadata": {},
   "outputs": [],
   "source": [
    "# speakers, n = np.load('details.npy',allow_pickle=True)"
   ]
  },
  {
   "cell_type": "code",
   "execution_count": 4,
   "metadata": {},
   "outputs": [
    {
     "name": "stdout",
     "output_type": "stream",
     "text": [
      "Number of speakers:  5\n"
     ]
    }
   ],
   "source": [
    "def get_labels(path):\n",
    "    labels = os.listdir(path)\n",
    "    label_indices = np.arange(0, len(labels))\n",
    "    return labels, len(labels)\n",
    "speakers, n = get_labels(datapath)\n",
    "\n",
    "# Saving the names of speakers and their labels\n",
    "details=[speakers,n]\n",
    "np.save('details.npy', details)\n",
    "print('Number of speakers: ',n)"
   ]
  },
  {
   "cell_type": "markdown",
   "metadata": {},
   "source": [
    "##### Making Train and Test csv files containing the audio filename and the speaker associated with that audio"
   ]
  },
  {
   "cell_type": "code",
   "execution_count": 5,
   "metadata": {},
   "outputs": [],
   "source": [
    "def organise_data_csv(path):\n",
    "    test = [['filename','speaker']]\n",
    "    train =[['filename','speaker']]\n",
    "    training_samples = [[] for _ in range(n)]\n",
    "    for id_ in speakers:\n",
    "        speaker_path = path+'/'+id_\n",
    "        videos = os.listdir(speaker_path)\n",
    "        c=0\n",
    "        for v in videos:\n",
    "            files = os.listdir(speaker_path+'/'+v) \n",
    "            random.shuffle(files)\n",
    "            audio_clip = speaker_path+'/'+v+'/'+files.pop(0), path +'/'+id_+'.'+str(c)+'.wav'\n",
    "            #print(audio_clip,type(audio_clip))\n",
    "            os.rename(audio_clip[0],audio_clip[1])\n",
    "            if c==0:\n",
    "                test.append([audio_clip[1],id_])                \n",
    "            else:\n",
    "                train.append([audio_clip[1],id_])\n",
    "                training_samples[speakers.index(id_)].append([audio_clip[1],speakers.index(id_)])\n",
    "            c+=1\n",
    "            shutil.rmtree(speaker_path+'/'+v)\n",
    "        os.rmdir(path+'/'+id_)\n",
    "        \n",
    "        \n",
    "    with open('train.csv', 'w') as csvFile:\n",
    "        writer = csv.writer(csvFile)\n",
    "        writer.writerows(train)\n",
    "\n",
    "    csvFile.close()    \n",
    "    \n",
    "    with open('test.csv', 'w') as csvFile:\n",
    "        writer = csv.writer(csvFile)\n",
    "        writer.writerows(test)\n",
    "\n",
    "    csvFile.close()\n",
    "    \n",
    "    return training_samples,test\n",
    "        \n",
    "training_samples ,testing_samples = organise_data_csv(datapath)"
   ]
  },
  {
   "cell_type": "code",
   "execution_count": 6,
   "metadata": {},
   "outputs": [],
   "source": [
    "np.save('training_samples.npy', training_samples)\n",
    "np.save('testing_samples.npy', testing_samples)"
   ]
  },
  {
   "cell_type": "code",
   "execution_count": null,
   "metadata": {},
   "outputs": [],
   "source": [
    "# training_samples = np.load('training_samples.npy', allow_pickle=True).tolist()\n",
    "# testing_samples = np.load('testing_samples.npy', allow_pickle=True).tolist()"
   ]
  },
  {
   "cell_type": "code",
   "execution_count": 7,
   "metadata": {},
   "outputs": [
    {
     "data": {
      "text/plain": [
       "Text(0, 0.5, 'Frequency')"
      ]
     },
     "execution_count": 7,
     "metadata": {},
     "output_type": "execute_result"
    },
    {
     "data": {
      "image/png": "[encoded data removed]",
      "text/plain": [
       "<Figure size 432x288 with 1 Axes>"
      ]
     },
     "metadata": {
      "needs_background": "light"
     },
     "output_type": "display_data"
    }
   ],
   "source": [
    "samples_number = [len(i) for i in training_samples]\n",
    "total_samples = sum(samples_number)\n",
    "# Draw the plot\n",
    "plt.hist(samples_number,bins = 20,color = '#2F4F4F', edgecolor = 'w')    \n",
    "# Title and labels\n",
    "plt.title('Number of samples for each speaker')\n",
    "plt.xlabel('Number of samples', size = 11)\n",
    "plt.ylabel('Frequency', size= 11)"
   ]
  },
  {
   "cell_type": "code",
   "execution_count": null,
   "metadata": {},
   "outputs": [],
   "source": []
  }
 ],
 "metadata": {
  "kernelspec": {
   "display_name": "Python 3",
   "language": "python",
   "name": "python3"
  },
  "language_info": {
   "codemirror_mode": {
    "name": "ipython",
    "version": 3
   },
   "file_extension": ".py",
   "mimetype": "text/x-python",
   "name": "python",
   "nbconvert_exporter": "python",
   "pygments_lexer": "ipython3",
   "version": "3.7.3"
  }
 },
 "nbformat": 4,
 "nbformat_minor": 2
}
